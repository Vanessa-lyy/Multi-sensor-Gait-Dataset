{
 "cells": [
  {
   "cell_type": "markdown",
   "source": [
    "# Consistency Test"
   ],
   "metadata": {
    "collapsed": false
   },
   "id": "8732ce3877227736"
  },
  {
   "cell_type": "code",
   "execution_count": 1,
   "outputs": [],
   "source": [
    "import seaborn as sns\n",
    "import pandas as pd\n",
    "import matplotlib.pyplot as plt\n",
    "\n",
    "# Check the consistency of kinematic parameters and spatio-temporal gait parameters from three devices between two experiments\n",
    "mo_ki=pd.read_csv(\"\\\\Data_new\\\\Parameters\\\\MOCAP_5m\\\\kinematic_parameters.csv\")\n",
    "ki_ki=pd.read_csv(\"\\\\Data_new\\\\Parameters\\\\Kinect_2m\\\\kinematic_parameters.csv\")\n",
    "imu_ki=pd.read_csv(\"\\\\Data_new\\\\Parameters\\\\IMU_5m\\\\kinematic_parameters.csv\")\n",
    "mo_sp=pd.read_csv(\"\\\\Data_new\\\\Parameters\\\\MOCAP_5m\\\\spatio-temporal_parameters.csv\")\n",
    "ki_sp=pd.read_csv(\"\\\\Data_new\\\\Parameters\\\\Kinect_2m\\\\spatio-temporal_parameters.csv\")"
   ],
   "metadata": {
    "collapsed": true,
    "ExecuteTime": {
     "end_time": "2024-08-15T09:28:10.157967800Z",
     "start_time": "2024-08-15T09:28:10.124082400Z"
    }
   },
   "id": "initial_id"
  },
  {
   "cell_type": "code",
   "execution_count": 3,
   "outputs": [
    {
     "name": "stdout",
     "output_type": "stream",
     "text": [
      "ICC Value:     Type              Description       ICC         F  df1  df2      pval  \\\n",
      "0   ICC1   Single raters absolute  0.784668  8.287984   22   23  0.000002   \n",
      "1   ICC2     Single random raters  0.783611  7.928362   22   22  0.000004   \n",
      "2   ICC3      Single fixed raters  0.775995  7.928362   22   22  0.000004   \n",
      "3  ICC1k  Average raters absolute  0.879343  8.287984   22   23  0.000002   \n",
      "4  ICC2k    Average random raters  0.878679  7.928362   22   22  0.000004   \n",
      "5  ICC3k     Average fixed raters  0.873871  7.928362   22   22  0.000004   \n",
      "\n",
      "          CI95%  \n",
      "0   [0.56, 0.9]  \n",
      "1   [0.55, 0.9]  \n",
      "2   [0.54, 0.9]  \n",
      "3  [0.72, 0.95]  \n",
      "4  [0.71, 0.95]  \n",
      "5   [0.7, 0.95]  \n"
     ]
    }
   ],
   "source": [
    "# The consistency test of kinematic parameters from MOCAP\n",
    "\n",
    "import pandas as pd\n",
    "import pingouin as pg\n",
    "#Calculate the ICC value\n",
    "#icc = pg.intraclass_corr(data=mo_ki, targets='sample', raters='times', ratings='Xspeed_mean')\n",
    "#icc = pg.intraclass_corr(data=mo_ki, targets='sample', raters='times', ratings='Yspeed_mean')\n",
    "#icc = pg.intraclass_corr(data=mo_ki, targets='sample', raters='times', ratings='Zspeed_mean')\n",
    "#icc = pg.intraclass_corr(data=mo_ki, targets='sample', raters='times', ratings='knee_max')\n",
    "icc = pg.intraclass_corr(data=mo_ki, targets='sample', raters='times', ratings='ankle_max')\n",
    "print(\"ICC Value:\", icc)\n"
   ],
   "metadata": {
    "collapsed": false,
    "ExecuteTime": {
     "end_time": "2024-08-15T09:28:27.532226Z",
     "start_time": "2024-08-15T09:28:27.254193300Z"
    }
   },
   "id": "12580683fcda6750"
  },
  {
   "cell_type": "code",
   "execution_count": 53,
   "outputs": [
    {
     "name": "stdout",
     "output_type": "stream",
     "text": [
      "ICC Value:     Type              Description       ICC          F  df1  df2  \\\n",
      "0   ICC1   Single raters absolute  0.889902  17.165658   22   23   \n",
      "1   ICC2     Single random raters  0.890776  20.083563   22   22   \n",
      "2   ICC3      Single fixed raters  0.905139  20.083563   22   22   \n",
      "3  ICC1k  Average raters absolute  0.941744  17.165658   22   23   \n",
      "4  ICC2k    Average random raters  0.942233  20.083563   22   22   \n",
      "5  ICC3k     Average fixed raters  0.950208  20.083563   22   22   \n",
      "\n",
      "           pval         CI95%  \n",
      "0  1.492754e-09  [0.76, 0.95]  \n",
      "1  6.184129e-10  [0.74, 0.95]  \n",
      "2  6.184129e-10  [0.79, 0.96]  \n",
      "3  1.492754e-09  [0.86, 0.98]  \n",
      "4  6.184129e-10  [0.85, 0.98]  \n",
      "5  6.184129e-10  [0.88, 0.98]  \n"
     ]
    }
   ],
   "source": [
    "# The consistency test of spatio-temporal gait parameters from MOCAP\n",
    "#Consider only the straight-line process\n",
    "grouped_process = mo_sp.groupby('process')\n",
    "group_go = grouped_process.get_group('go')\n",
    "group_back = grouped_process.get_group('back')\n",
    "\n",
    "merged_mo = pd.concat([group_go,group_back], ignore_index=True)\n",
    "\n",
    "icc = pg.intraclass_corr(data=merged_mo, targets='sample', raters='times', ratings='step_length')\n",
    "#icc = pg.intraclass_corr(data=merged_mo, targets='sample', raters='times', ratings='stride_length')\n",
    "#icc = pg.intraclass_corr(data=merged_mo, targets='sample', raters='times', ratings='stride_speed')\n",
    "#icc = pg.intraclass_corr(data=merged_mo, targets='sample', raters='times', ratings='step_width')\n",
    "\n",
    "print(\"ICC Value:\", icc)"
   ],
   "metadata": {
    "collapsed": false,
    "ExecuteTime": {
     "end_time": "2024-08-15T05:11:22.578183700Z",
     "start_time": "2024-08-15T05:11:22.541655100Z"
    }
   },
   "id": "c5edf06a3818cf1e"
  },
  {
   "cell_type": "code",
   "execution_count": 18,
   "outputs": [
    {
     "name": "stdout",
     "output_type": "stream",
     "text": [
      "ICC Value:     Type              Description       ICC         F  df1  df2      pval  \\\n",
      "0   ICC1   Single raters absolute  0.402548  2.347552   22   23  0.023774   \n",
      "1   ICC2     Single random raters  0.398472  2.295476   22   22  0.028694   \n",
      "2   ICC3      Single fixed raters  0.393107  2.295476   22   22  0.028694   \n",
      "3  ICC1k  Average raters absolute  0.574024  2.347552   22   23  0.023774   \n",
      "4  ICC2k    Average random raters  0.569868  2.295476   22   22  0.028694   \n",
      "5  ICC3k     Average fixed raters  0.564361  2.295476   22   22  0.028694   \n",
      "\n",
      "           CI95%  \n",
      "0    [0.0, 0.69]  \n",
      "1  [-0.01, 0.69]  \n",
      "2  [-0.01, 0.69]  \n",
      "3   [0.01, 0.82]  \n",
      "4  [-0.02, 0.82]  \n",
      "5  [-0.03, 0.82]  \n"
     ]
    }
   ],
   "source": [
    "# The consistency test of kinematic parameters from Kinect\n",
    "icc = pg.intraclass_corr(data=ki_ki, targets='sample', raters='times', ratings='Xspeed_mean')\n",
    "#icc = pg.intraclass_corr(data=ki_ki, targets='sample', raters='times', ratings='Yspeed_mean')\n",
    "#icc = pg.intraclass_corr(data=ki_ki, targets='sample', raters='times', ratings='Zspeed_mean')\n",
    "#icc = pg.intraclass_corr(data=ki_ki, targets='sample', raters='times', ratings='knee_max')\n",
    "#icc = pg.intraclass_corr(data=ki_ki, targets='sample', raters='times', ratings='ankle_max')\n",
    "print(\"ICC Value:\", icc)"
   ],
   "metadata": {
    "collapsed": false,
    "ExecuteTime": {
     "end_time": "2024-08-15T04:44:09.616375200Z",
     "start_time": "2024-08-15T04:44:09.578011900Z"
    }
   },
   "id": "6b67ab8ec9fc289"
  },
  {
   "cell_type": "code",
   "execution_count": 45,
   "outputs": [
    {
     "name": "stdout",
     "output_type": "stream",
     "text": [
      "ICC Value:     Type              Description       ICC          F  df1  df2  \\\n",
      "0   ICC1   Single raters absolute  0.869361  14.309409   22   23   \n",
      "1   ICC2     Single random raters  0.869102  13.887904   22   22   \n",
      "2   ICC3      Single fixed raters  0.865663  13.887904   22   22   \n",
      "3  ICC1k  Average raters absolute  0.930116  14.309409   22   23   \n",
      "4  ICC2k    Average random raters  0.929967  13.887904   22   22   \n",
      "5  ICC3k     Average fixed raters  0.927995  13.887904   22   22   \n",
      "\n",
      "           pval         CI95%  \n",
      "0  9.570264e-09  [0.72, 0.94]  \n",
      "1  2.348935e-08  [0.72, 0.94]  \n",
      "2  2.348935e-08  [0.71, 0.94]  \n",
      "3  9.570264e-09  [0.84, 0.97]  \n",
      "4  2.348935e-08  [0.84, 0.97]  \n",
      "5  2.348935e-08  [0.83, 0.97]  \n"
     ]
    }
   ],
   "source": [
    "# The consistency test of spatio-temporal gait parameters from Kinect\n",
    "# Consider only the straight-line process\n",
    "grouped_process = ki_sp.groupby('process')\n",
    "group_go = grouped_process.get_group('go')\n",
    "group_back = grouped_process.get_group('back')\n",
    "\n",
    "merged_ki = pd.concat([group_go, group_back], ignore_index=True)\n",
    "\n",
    "\n",
    "icc = pg.intraclass_corr(data=merged_ki, targets='sample', raters='times', ratings='step_length')\n",
    "#icc = pg.intraclass_corr(data=merged_ki, targets='sample', raters='times', ratings='stride_length')\n",
    "#icc = pg.intraclass_corr(data=merged_ki, targets='sample', raters='times', ratings='stride_speed')\n",
    "#icc = pg.intraclass_corr(data=merged_ki, targets='sample', raters='times', ratings='step_width')\n",
    "\n",
    "print(\"ICC Value:\", icc)"
   ],
   "metadata": {
    "collapsed": false,
    "ExecuteTime": {
     "end_time": "2024-08-15T05:03:14.920724300Z",
     "start_time": "2024-08-15T05:03:14.884265700Z"
    }
   },
   "id": "1112c930025601e9"
  },
  {
   "cell_type": "code",
   "execution_count": 9,
   "outputs": [
    {
     "name": "stdout",
     "output_type": "stream",
     "text": [
      "ICC Value:     Type              Description       ICC          F  df1  df2  \\\n",
      "0   ICC1   Single raters absolute  0.834785  11.105430   22   23   \n",
      "1   ICC2     Single random raters  0.835366  11.601392   22   22   \n",
      "2   ICC3      Single fixed raters  0.841287  11.601392   22   22   \n",
      "3  ICC1k  Average raters absolute  0.909954  11.105430   22   23   \n",
      "4  ICC2k    Average random raters  0.910299  11.601392   22   22   \n",
      "5  ICC3k     Average fixed raters  0.913803  11.601392   22   22   \n",
      "\n",
      "           pval         CI95%  \n",
      "0  1.182868e-07  [0.65, 0.93]  \n",
      "1  1.305225e-07  [0.65, 0.93]  \n",
      "2  1.305225e-07  [0.66, 0.93]  \n",
      "3  1.182868e-07  [0.79, 0.96]  \n",
      "4  1.305225e-07  [0.79, 0.96]  \n",
      "5  1.305225e-07   [0.8, 0.96]  \n"
     ]
    }
   ],
   "source": [
    "# The consistency test of kinematic parameters from IMU\n",
    "\n",
    "icc = pg.intraclass_corr(data=imu_ki, targets='sample', raters='times', ratings='Xacc_rms')\n",
    "#icc = pg.intraclass_corr(data=imu_ki, targets='sample', raters='times', ratings='Yacc_rms')\n",
    "#icc = pg.intraclass_corr(data=imu_ki, targets='sample', raters='times', ratings='Zacc_rms')\n",
    "#icc = pg.intraclass_corr(data=imu_ki, targets='sample', raters='times', ratings='Xanv_rms')\n",
    "#icc = pg.intraclass_corr(data=imu_ki, targets='sample', raters='times', ratings='Yanv_rms')\n",
    "#icc = pg.intraclass_corr(data=imu_ki, targets='sample', raters='times', ratings='Zanv_rms')\n",
    "print(\"ICC Value:\", icc)"
   ],
   "metadata": {
    "collapsed": false,
    "ExecuteTime": {
     "end_time": "2024-08-15T09:29:50.449215700Z",
     "start_time": "2024-08-15T09:29:50.416974800Z"
    }
   },
   "id": "5e2acb8660fd7e8d"
  },
  {
   "cell_type": "code",
   "execution_count": null,
   "outputs": [],
   "source": [],
   "metadata": {
    "collapsed": false
   },
   "id": "e47d929b4fd4a766"
  }
 ],
 "metadata": {
  "kernelspec": {
   "display_name": "Python 3",
   "language": "python",
   "name": "python3"
  },
  "language_info": {
   "codemirror_mode": {
    "name": "ipython",
    "version": 2
   },
   "file_extension": ".py",
   "mimetype": "text/x-python",
   "name": "python",
   "nbconvert_exporter": "python",
   "pygments_lexer": "ipython2",
   "version": "2.7.6"
  }
 },
 "nbformat": 4,
 "nbformat_minor": 5
}
