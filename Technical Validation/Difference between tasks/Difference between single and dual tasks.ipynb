{
 "cells": [
  {
   "cell_type": "code",
   "execution_count": null,
   "id": "initial_id",
   "metadata": {
    "collapsed": true
   },
   "outputs": [],
   "source": [
    "import pandas as pd\n",
    "mo_sp = pd.read_csv(\"\\\\Data_new\\\\Parameters\\\\MOCAP_5m\\\\spatio-temporal_parameters.csv\")\n",
    "# Select the data from the first experiment\n",
    "mo_time = mo_sp.groupby('times')\n",
    "mo_time01 = mo_time.get_group('time01')\n",
    "# Select the data from the go process\n",
    "mo_time01_process = mo_time01.groupby('process')\n",
    "mo_time01_go  = mo_time01_process .get_group('go')\n",
    "\n",
    "mo_time01_go_task = mo_time01_go.groupby('task')\n",
    "\n",
    "mo_time01_go_normal = mo_time01_go_task.get_group('task_normal')\n",
    "mo_time01_go_cup= mo_time01_go_task.get_group('task_cup')\n",
    "mo_time01_go_text = mo_time01_go_task.get_group('task_text')\n",
    "mo_time01_go_web = mo_time01_go_task.get_group('task_web')\n"
   ]
  },
  {
   "cell_type": "code",
   "execution_count": null,
   "outputs": [],
   "source": [
    "import pandas as pd\n",
    "imu_ki = pd.read_csv(\"\\\\Data_new\\\\Parameters\\\\IMU_5m\\\\kinematic_parameters.csv\")\n",
    "\n",
    "imu_time = imu_ki.groupby('times')\n",
    "imu_time01 = imu_time.get_group('time01')\n",
    "\n",
    "imu_time01_process = imu_time01.groupby('process')\n",
    "imu_time01_turn  = imu_time01_process .get_group('turn')\n",
    "\n",
    "imu_time01_turn_task = imu_time01_turn.groupby('task')\n",
    "\n",
    "imu_time01_turn_normal = imu_time01_turn_task.get_group('task_normal')\n",
    "imu_time01_turn_cup= imu_time01_turn_task.get_group('task_cup')\n",
    "imu_time01_turn_text = imu_time01_turn_task.get_group('task_text')\n",
    "imu_time01_turn_web = imu_time01_turn_task.get_group('task_web')"
   ],
   "metadata": {
    "collapsed": false
   },
   "id": "c6841c6a8e13cf69"
  },
  {
   "cell_type": "markdown",
   "source": [
    "# Paired T-test"
   ],
   "metadata": {
    "collapsed": false
   },
   "id": "ff18d7c20ea3a3c2"
  },
  {
   "cell_type": "code",
   "execution_count": null,
   "outputs": [],
   "source": [
    "import numpy as np\n",
    "from scipy import stats\n",
    "# T-test for spatio-temporal gait parameters\n",
    "step_normal = np.array(mo_time01_go_normal['step_length'])\n",
    "step_cup = np.array(mo_time01_go_cup['step_length'])\n",
    "step_text = np.array(mo_time01_go_text['step_length'])\n",
    "step_web = np.array(mo_time01_go_web['step_length'])\n",
    "\n",
    "stride_normal = np.array(mo_time01_go_normal['stride_length'])\n",
    "stride_cup = np.array(mo_time01_go_cup['stride_length'])\n",
    "stride_text = np.array(mo_time01_go_text['stride_length'])\n",
    "stride_web = np.array(mo_time01_go_web['stride_length'])\n",
    "\n",
    "speed_normal = np.array(mo_time01_go_normal['stride_speed'])\n",
    "speed_cup = np.array(mo_time01_go_cup['stride_speed'])\n",
    "speed_text = np.array(mo_time01_go_text['stride_speed'])\n",
    "speed_web = np.array(mo_time01_go_web['stride_speed'])\n",
    "\n",
    "width_normal = np.array(mo_time01_go_normal['step_width'])\n",
    "width_cup = np.array(mo_time01_go_cup['step_width'])\n",
    "width_text = np.array(mo_time01_go_text['step_width'])\n",
    "width_web = np.array(mo_time01_go_web['step_width'])\n",
    "\n",
    "step_cup_st=stats.ttest_rel(step_normal,step_cup)\n",
    "step_text_st=stats.ttest_rel(step_normal,step_text)\n",
    "step_web_st=stats.ttest_rel(step_normal,step_web)\n",
    "\n",
    "stride_cup_st=stats.ttest_rel(stride_normal,stride_cup)\n",
    "stride_text_st=stats.ttest_rel(stride_normal,stride_text)\n",
    "stride_web_st=stats.ttest_rel(stride_normal,stride_web)\n",
    "\n",
    "speed_cup_st=stats.ttest_rel(speed_normal,speed_cup)\n",
    "speed_text_st=stats.ttest_rel(speed_normal,speed_text)\n",
    "speed_web_st=stats.ttest_rel(speed_normal,speed_web)\n",
    "\n",
    "width_cup_st=stats.ttest_rel(width_normal,width_cup)\n",
    "width_text_st=stats.ttest_rel(width_normal,width_text)\n",
    "width_web_st=stats.ttest_rel(width_normal,width_web)\n",
    "\n",
    "print(\"step_cup\",step_cup_st)\n",
    "print(\"step_text\",step_text_st)\n",
    "print(\"step_web\",step_web_st)\n",
    "print(np.mean(step_normal).round(3),\"±\",np.std(step_normal).round(3))\n",
    "print(np.mean(step_cup).round(3),\"±\",np.std(step_cup).round(3))\n",
    "print(np.mean(step_text).round(3),\"±\",np.std(step_text).round(3))\n",
    "print(np.mean(step_web).round(3),\"±\",np.std(step_web).round(3))\n",
    "\n",
    "print(\"stride_cup\",stride_cup_st)\n",
    "print(\"stride_text\",stride_text_st)\n",
    "print(\"stride_web\",stride_web_st)\n",
    "print(np.mean(stride_normal).round(3),\"±\",np.std(stride_normal).round(3))\n",
    "print(np.mean(stride_cup).round(3),\"±\",np.std(stride_cup).round(3))\n",
    "print(np.mean(stride_text).round(3),\"±\",np.std(stride_text).round(3))\n",
    "print(np.mean(stride_web).round(3),\"±\",np.std(stride_web).round(3))\n",
    "\n",
    "print(\"speed_cup\",speed_cup_st)\n",
    "print(\"speed_text\",speed_text_st)\n",
    "print(\"speed_web\",speed_web_st)\n",
    "print(np.mean(speed_normal).round(3),\"±\",np.std(speed_normal).round(3))\n",
    "print(np.mean(speed_cup).round(3),\"±\",np.std(speed_cup).round(3))\n",
    "print(np.mean(speed_text).round(3),\"±\",np.std(speed_text).round(3))\n",
    "print(np.mean(speed_web).round(3),\"±\",np.std(speed_web).round(3))\n",
    "\n",
    "print(\"width_cup\",width_cup_st)\n",
    "print(\"width_text\",width_text_st)\n",
    "print(\"width_web\",width_web_st)\n",
    "print(np.mean(width_normal).round(3),\"±\",np.std(width_normal).round(3))\n",
    "print(np.mean(width_cup).round(3),\"±\",np.std(width_cup).round(3))\n",
    "print(np.mean(width_text).round(3),\"±\",np.std(width_text).round(3))\n",
    "print(np.mean(width_web).round(3),\"±\",np.std(width_web).round(3))\n"
   ],
   "metadata": {
    "collapsed": false
   },
   "id": "8b4e4d6feca5b91a"
  },
  {
   "cell_type": "code",
   "execution_count": null,
   "outputs": [],
   "source": [
    "# T-test for kinematic gait parameters\n",
    "avx_normal = np.array(imu_time01_turn_normal['Xav_pk'])\n",
    "avx_cup = np.array(imu_time01_turn_cup['Xav_pk'])\n",
    "avx_text = np.array(imu_time01_turn_text['Xav_pk'])\n",
    "avx_web = np.array(imu_time01_turn_web['Xav_pk'])\n",
    "\n",
    "avy_normal = np.array(imu_time01_turn_normal['Yav_pk'])\n",
    "avy_cup = np.array(imu_time01_turn_cup['Yav_pk'])\n",
    "avy_text = np.array(imu_time01_turn_text['Yav_pk'])\n",
    "avy_web = np.array(imu_time01_turn_web['Yav_pk'])\n",
    "\n",
    "avz_normal = np.array(imu_time01_turn_normal['Zav_pk'])\n",
    "avz_cup = np.array(imu_time01_turn_cup['Zav_pk'])\n",
    "avz_text = np.array(imu_time01_turn_text['Zav_pk'])\n",
    "avz_web = np.array(imu_time01_turn_web['Zav_pk'])\n",
    "\n",
    "\n",
    "\n",
    "avx_cup_st=stats.ttest_rel(avx_normal,avx_cup)\n",
    "avx_text_st=stats.ttest_rel(avx_normal,avx_text)\n",
    "avx_web_st=stats.ttest_rel(avx_normal,avx_web)\n",
    "\n",
    "avy_cup_st=stats.ttest_rel(avy_normal,avy_cup)\n",
    "avy_text_st=stats.ttest_rel(avy_normal,avy_text)\n",
    "avy_web_st=stats.ttest_rel(avy_normal,avy_web)\n",
    "\n",
    "avz_cup_st=stats.ttest_rel(avz_normal,avz_cup)\n",
    "avz_text_st=stats.ttest_rel(avz_normal,avz_text)\n",
    "avz_web_st=stats.ttest_rel(avz_normal,avz_web)\n",
    "\n",
    "\n",
    "print(\"avx_cup:\",avx_cup_st)\n",
    "print(\"avx_text:\",avx_text_st)\n",
    "print(\"avx_web:\",avx_web_st)\n",
    "print(np.mean(avx_normal).round(3),\"±\",np.std(avx_normal).round(3))\n",
    "print(np.mean(avx_cup).round(3),\"±\",np.std(avx_cup).round(3))\n",
    "print(np.mean(avx_text).round(3),\"±\",np.std(avx_text).round(3))\n",
    "print(np.mean(avx_web).round(3),\"±\",np.std(avx_web).round(3))\n",
    "\n",
    "print(\"avy_cup:\",avy_cup_st)\n",
    "print(\"avy_text:\",avy_text_st)\n",
    "print(\"avy_web:\",avy_web_st)\n",
    "print(np.mean(avy_normal).round(3),\"±\",np.std(avy_normal).round(3))\n",
    "print(np.mean(avy_cup).round(3),\"±\",np.std(avy_cup).round(3))\n",
    "print(np.mean(avy_text).round(3),\"±\",np.std(avy_text).round(3))\n",
    "print(np.mean(avy_web).round(3),\"±\",np.std(avy_web).round(3))\n",
    "\n",
    "print(\"avz_cup:\",avz_cup_st)\n",
    "print(\"avz_text:\",avz_text_st)\n",
    "print(\"avz_web:\",avz_web_st)\n",
    "print(np.mean(avz_normal).round(3),\"±\",np.std(avz_normal).round(3))\n",
    "print(np.mean(avz_cup).round(3),\"±\",np.std(avz_cup).round(3))\n",
    "print(np.mean(avz_text).round(3),\"±\",np.std(avz_text).round(3))\n",
    "print(np.mean(avz_web).round(3),\"±\",np.std(avz_web).round(3))\n",
    "\n"
   ],
   "metadata": {
    "collapsed": false
   },
   "id": "362fde5d03b20db5"
  },
  {
   "cell_type": "code",
   "execution_count": null,
   "outputs": [],
   "source": [
    "import pandas as pd\n",
    "import numpy as np\n",
    "# 95% Cap Method\n",
    "#first-go\n",
    "mo_time01_go = pd.DataFrame(columns=mo_sp.columns)  \n",
    "for group_name, group_data in mo_time01_go_task:\n",
    "    group_data_processed = group_data.copy()\n",
    "    for i in range(6,len(mo_sp.columns)):\n",
    "        percentile_95 = np.percentile(group_data_processed.iloc[:,i], 95)\n",
    "        percentile_5 = np.percentile(group_data_processed.iloc[:,i], 5)\n",
    "        group_data_processed.iloc[:,i] = np.where(group_data_processed.iloc[:,i] > percentile_95, percentile_95, group_data_processed.iloc[:,i])\n",
    "        group_data_processed.iloc[:,i] = np.where(group_data_processed.iloc[:,i] < percentile_5, percentile_5, group_data_processed.iloc[:,i])\n",
    "\n",
    "    mo_time01_go = pd.concat([mo_time01_go, group_data_processed])\n",
    "\n"
   ],
   "metadata": {
    "collapsed": false
   },
   "id": "c3f2301b8afb8f30"
  },
  {
   "cell_type": "code",
   "execution_count": null,
   "outputs": [],
   "source": [
    "import pandas as pd\n",
    "\n",
    "# 95% Cap Method\n",
    "#first-turn\n",
    "imu_time01_turn = pd.DataFrame(columns=imu_ki.columns)  \n",
    "for group_name, group_data in imu_time01_turn_task:\n",
    "    group_data_processed = group_data.copy()\n",
    "    for i in range(6,len(imu_ki.columns)):\n",
    "        percentile_95 = np.percentile(group_data_processed.iloc[:,i], 95)\n",
    "        percentile_5 = np.percentile(group_data_processed.iloc[:,i], 5)\n",
    "        group_data_processed.iloc[:,i] = np.where(group_data_processed.iloc[:,i] > percentile_95, percentile_95, group_data_processed.iloc[:,i])\n",
    "        group_data_processed.iloc[:,i] = np.where(group_data_processed.iloc[:,i] < percentile_5, percentile_5, group_data_processed.iloc[:,i])\n",
    "    imu_time01_turn = pd.concat([imu_time01_turn, group_data_processed])"
   ],
   "metadata": {
    "collapsed": false
   },
   "id": "812524d46a68880c"
  },
  {
   "cell_type": "code",
   "execution_count": null,
   "outputs": [],
   "source": [
    "mo_time01_go_task = mo_time01_go.groupby('task')\n",
    "mo_time01_go_normal = mo_time01_go_task.get_group('task_normal')\n",
    "mo_time01_go_cup = mo_time01_go_task.get_group('task_cup')\n",
    "mo_time01_go_text = mo_time01_go_task.get_group('task_text')\n",
    "mo_time01_go_web = mo_time01_go_task.get_group('task_web')\n",
    "\n",
    "imu_time01_turn_task = imu_time01_turn.groupby('task')\n",
    "imu_time01_turn_normal = imu_time01_turn_task.get_group('task_normal')\n",
    "imu_time01_turn_cup = imu_time01_turn_task.get_group('task_cup')\n",
    "imu_time01_turn_text = imu_time01_turn_task.get_group('task_text')\n",
    "imu_time01_turn_web = imu_time01_turn_task.get_group('task_web')\n"
   ],
   "metadata": {
    "collapsed": false
   },
   "id": "4885d9eca2518e2e"
  },
  {
   "cell_type": "code",
   "execution_count": null,
   "outputs": [],
   "source": [
    "imu_ki2=pd.concat([imu_time01_turn_normal,imu_time01_turn_cup,imu_time01_turn_text,imu_time01_turn_web])\n",
    "mo_sp2=pd.concat([mo_time01_go_normal,mo_time01_go_cup,mo_time01_go_text,mo_time01_go_web])"
   ],
   "metadata": {
    "collapsed": false
   },
   "id": "8984e760a2c35990"
  },
  {
   "cell_type": "code",
   "execution_count": null,
   "outputs": [],
   "source": [
    "#Plot boxplots for stride length and stride speed\n",
    "\n",
    "import matplotlib.pyplot as plt\n",
    "import seaborn as sns\n",
    "plt.style.use('default')\n",
    "custom_font = 'Arial'\n",
    "plt.figure(figsize=(16, 6))\n",
    "plt.subplot(1,2,1)\n",
    "sns.boxplot(data=mo_sp2, x='task', y='stride_length', color='#C65537', width=0.5)\n",
    "plt.title('Stride length of single and dual tasks',fontsize=20,fontweight='bold',fontname=custom_font)\n",
    "plt.xlabel('Tasks',fontsize=20,fontweight='bold',fontname=custom_font)\n",
    "plt.ylabel('Stride length (m)',fontsize=20,fontweight='bold',fontname=custom_font)\n",
    "plt.xticks(fontsize=20, fontname=custom_font)\n",
    "plt.yticks(fontsize=20, fontname=custom_font)  \n",
    "plt.text(-0.4,0.763, 'a' ,fontsize=20,fontweight='bold',fontname=custom_font)\n",
    "\n",
    "\n",
    "plt.subplot(1,2,2)\n",
    "sns.boxplot(data=imu_ki2, x='task', y='Zav_pk', color='#C65537', width=0.5)\n",
    "plt.title('Peak value of AV_V of single and dual tasks',fontsize=20,fontweight='bold',fontname=custom_font)\n",
    "plt.xlabel('Tasks',fontsize=20,fontweight='bold',fontname=custom_font)\n",
    "plt.ylabel('Angular velocity (°/s)',fontsize=20,fontweight='bold',fontname=custom_font)\n",
    "plt.xticks(fontsize=20, fontname=custom_font)  \n",
    "plt.yticks(fontsize=20, fontname=custom_font)  \n",
    "plt.text(-0.4,190, 'b' ,fontsize=20,fontweight='bold',fontname=custom_font)\n",
    "plt.savefig('\\\\stride and av_v.jpg', dpi=300, bbox_inches='tight')\n",
    "plt.show()"
   ],
   "metadata": {
    "collapsed": false
   },
   "id": "598bd7a0bdccaf50"
  },
  {
   "cell_type": "code",
   "execution_count": null,
   "outputs": [],
   "source": [],
   "metadata": {
    "collapsed": false
   },
   "id": "d46af31e2de2178b"
  }
 ],
 "metadata": {
  "kernelspec": {
   "display_name": "Python 3",
   "language": "python",
   "name": "python3"
  },
  "language_info": {
   "codemirror_mode": {
    "name": "ipython",
    "version": 2
   },
   "file_extension": ".py",
   "mimetype": "text/x-python",
   "name": "python",
   "nbconvert_exporter": "python",
   "pygments_lexer": "ipython2",
   "version": "2.7.6"
  }
 },
 "nbformat": 4,
 "nbformat_minor": 5
}
