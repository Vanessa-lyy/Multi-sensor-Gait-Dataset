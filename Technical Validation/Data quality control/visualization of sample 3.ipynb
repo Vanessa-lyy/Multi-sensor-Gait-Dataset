{
 "cells": [
  {
   "cell_type": "markdown",
   "source": [
    "# Visualization of Sample 3"
   ],
   "metadata": {
    "collapsed": false
   },
   "id": "b52cec01cb529a59"
  },
  {
   "cell_type": "code",
   "execution_count": null,
   "outputs": [],
   "source": [
    "import pandas as pd\n",
    "# Visualize data for each phase from the three devices\n",
    "data1_go= pd.read_csv(\"\\Data_new\\\\Processed\\\\MOCAP_5m\\\\time01\\\\go\\\\task_normal\\\\sample03_task_normal.csv\")\n",
    "data2_go = pd.read_csv(\"\\Data_new\\\\Processed\\\\Kinect_2m\\\\time01\\\\go\\\\task_normal\\\\sample03_task_normal.csv\")\n",
    "data3_go = pd.read_csv(\"\\Data_new\\\\Processed\\\\IMU_5m\\\\time01\\\\go\\\\task_normal\\\\sample03_task_normal.csv\")\n",
    "data1_turn= pd.read_csv(\"\\Data_new\\\\Processed\\\\MOCAP_5m\\\\time01\\\\turn\\\\task_normal\\\\sample03_task_normal.csv\")\n",
    "data2_turn = pd.read_csv(\"\\Data_new\\\\Processed\\\\Kinect_2m\\\\time01\\\\turn\\\\task_normal\\\\sample03_task_normal.csv\")\n",
    "data3_turn = pd.read_csv(\"\\Data_new\\\\Processed\\\\IMU_5m\\\\time01\\\\turn\\\\task_normal\\\\sample03_task_normal.csv\")\n",
    "data1_back= pd.read_csv(\"\\Data_new\\\\Processed\\\\MOCAP_5m\\\\time01\\\\back\\\\task_normal\\\\sample03_task_normal.csv\")\n",
    "data2_back = pd.read_csv(\"\\Data_new\\\\Processed\\\\Kinect_2m\\\\time01\\\\back\\\\task_normal\\\\sample03_task_normal.csv\")\n",
    "data3_back = pd.read_csv(\"\\Data_new\\\\Processed\\\\IMU_5m\\\\time01\\\\back\\\\task_normal\\\\sample03_task_normal.csv\")\n",
    "data1_go_kinect = pd.read_csv(\"\\Data_new\\\\Processed\\\\MOCAP_2m\\\\time01\\\\go\\\\task_normal\\\\sample03_task_normal.csv\")"
   ],
   "metadata": {
    "collapsed": true
   },
   "id": "initial_id"
  },
  {
   "cell_type": "code",
   "execution_count": null,
   "outputs": [],
   "source": [
    "merged_1 = pd.concat([data1_go, data1_turn,data1_back], ignore_index=True)\n",
    "merged_2 = pd.concat([data2_go, data2_turn,data2_back], ignore_index=True)\n",
    "merged_3 = pd.concat([data3_go, data3_turn,data3_back], ignore_index=True)"
   ],
   "metadata": {
    "collapsed": false
   },
   "id": "6dce211a864ad700"
  },
  {
   "cell_type": "code",
   "execution_count": null,
   "outputs": [],
   "source": [
    "#Ensure that the straight-line distance units and time formats are consistent across the three devices\n",
    "yl1=(merged_1['Y19']-merged_1['Y19'][0])\n",
    "yl2=(merged_2['Y14']-merged_2['Y14'][0])\n",
    "yl3=merged_3['AV_Z']\n",
    "yl1_go=(data1_go['Y19']-data1_go['Y19'][0])\n",
    "yl1_turn=(data1_turn['Y19']-data1_go['Y19'][0])\n",
    "yl1_back=(data1_back['Y19']-data1_go['Y19'][0])\n",
    "yl2_go=(data2_go['Y14']-data2_go['Y14'][0])-abs((data1_go_kinect['Y19'][0]-data1_go['Y19'][0]))\n",
    "yl2_turn=(data2_turn['Y14']-data2_go['Y14'][0])-abs((data1_go_kinect['Y19'][0]-data1_go['Y19'][0]))\n",
    "yl2_back=(data2_back['Y14']-data2_go['Y14'][0])-abs((data1_go_kinect['Y19'][0]-data1_go['Y19'][0]))\n",
    "yl3_go=data3_go['AV_Z']\n",
    "yl3_turn=data3_turn['AV_Z']\n",
    "yl3_back=data3_back['AV_Z']\n",
    "time1=merged_1['Timestamp']-merged_1['Timestamp'][0]\n",
    "time2=merged_2['Timestamp']-merged_2['Timestamp'][0]\n",
    "time3=merged_3['Timestamp']-merged_3['Timestamp'][0]\n",
    "time1_go=data1_go['Timestamp']-data1_go['Timestamp'][0]\n",
    "time1_turn=data1_turn['Timestamp']-data1_go['Timestamp'][0]\n",
    "time1_back=data1_back['Timestamp']-data1_go['Timestamp'][0]\n",
    "time2_go=data2_go['Timestamp']-data1_go['Timestamp'][0]\n",
    "time2_turn=data2_turn['Timestamp']-data1_go['Timestamp'][0]\n",
    "time2_back=data2_back['Timestamp']-data1_go['Timestamp'][0]\n",
    "time3_go=data3_go['Timestamp']-data3_go['Timestamp'][0]\n",
    "time3_turn=data3_turn['Timestamp']-data3_go['Timestamp'][0]\n",
    "time3_back=data3_back['Timestamp']-data3_go['Timestamp'][0]"
   ],
   "metadata": {
    "collapsed": false
   },
   "id": "8aa703a8404a9926"
  },
  {
   "cell_type": "code",
   "execution_count": null,
   "outputs": [],
   "source": [
    "import matplotlib.pyplot as plt\n",
    "\n",
    "plt.figure(figsize=(18, 23))\n",
    "plt.style.use('default')\n",
    "custom_font = 'Arial'\n",
    "\n",
    "plt.subplot(3,1,1)\n",
    "plt.plot(time1_go, yl1_go, linewidth=7, color='#A13E38')\n",
    "plt.plot(time1_turn, yl1_turn, linewidth=7, color='#D7B91B')\n",
    "plt.plot(time1_back, yl1_back, linewidth=7, color='#3A55A4')\n",
    "plt.axvline(x=time1_go.iloc[-1], linestyle='--', color='gray', alpha=0.6,linewidth=2)\n",
    "plt.axvline(x=time1_turn.iloc[-1], linestyle='--', color='gray', alpha=0.6,linewidth=2)\n",
    "plt.axvspan(time1_go.iloc[-1], time1_turn.iloc[-1], color='#EECA40', alpha=0.1)\n",
    "\n",
    "plt.text((time1_go.iloc[-1] + time1_turn.iloc[-1]) / 2, -1.57, 'Turn', fontsize=35, color='black', ha='center',fontweight='bold',fontname=custom_font)\n",
    "plt.text(time1_go.iloc[-1] / 2, -1.57, 'Go', fontsize=35, color='black', ha='center',fontweight='bold',fontname=custom_font)\n",
    "plt.text((time1_turn.iloc[-1] + time1_back.iloc[-1]) / 2, -1.57, 'Back', fontsize=35, color='black', ha='center',fontweight='bold',fontname=custom_font)\n",
    "plt.xlabel('Time (s)', fontsize=35,fontweight='bold',fontname=custom_font)  # Set x-axis label\n",
    "plt.ylabel('Distance (m)', fontsize=35,fontweight='bold',fontname=custom_font)  # Set y-axis label\n",
    "plt.xlim(0, max(time1))\n",
    "plt.title('Distance_AP of Mocap', fontsize=35, pad=15,fontweight='bold',fontname=custom_font)\n",
    "plt.xticks(fontsize=35, fontname=custom_font)  \n",
    "plt.yticks(fontsize=35, fontname=custom_font)\n",
    "plt.text(0.1,-0.4, 'a' ,fontsize=35,fontweight='bold',fontname=custom_font)\n",
    "\n",
    "plt.subplot(3,1,2)\n",
    "plt.plot(time2_go, yl2_go, linewidth=7, color='#A13E38')\n",
    "plt.plot(time2_turn, yl2_turn, linewidth=7, color='#D7B91B')\n",
    "plt.plot(time2_back, yl2_back, linewidth=7, color='#3A55A4')\n",
    "plt.axvline(x=time2_go.iloc[-1], linestyle='--', color='gray', alpha=0.6,linewidth=2)\n",
    "plt.axvline(x=time2_turn.iloc[-1], linestyle='--', color='gray', alpha=0.6,linewidth=2)\n",
    "plt.axvspan(time2_go.iloc[-1], time2_turn.iloc[-1], color='#EECA40', alpha=0.1)\n",
    "\n",
    "\n",
    "import numpy as np\n",
    "x_fill = np.linspace(0, time2_go.iloc[0], 200)\n",
    "plt.fill_between(x_fill,min(yl1_turn)-0.2,0.2, hatch='/', alpha=0.4, label='x < 2' ,facecolor='none')\n",
    "x_fill2 = np.linspace(time2_back.iloc[-1], max(time1), 200)\n",
    "plt.fill_between(x_fill2,min(yl1_turn)-0.2,0.2, hatch='/', alpha=0.4, label='x < 2' ,facecolor='none')\n",
    "\n",
    "plt.text((time2_go.iloc[-1] + time2_turn.iloc[-1]) / 2, -2, 'Turn', fontsize=35, color='black', ha='center',fontweight='bold',fontname=custom_font)\n",
    "plt.text((time2_go.iloc[0]+ time2_go.iloc[-1] )/ 2, -2, 'Go', fontsize=35, color='black', ha='center',fontweight='bold',fontname=custom_font)\n",
    "plt.text((time2_turn.iloc[-1] + time2_back.iloc[-1]) / 2, -2, 'Back', fontsize=35, color='black', ha='center',fontweight='bold',fontname=custom_font)\n",
    "plt.xlabel('Time (s)', fontsize=35,fontweight='bold',fontname=custom_font)  # Set x-axis label\n",
    "plt.ylabel('Distance (m)', fontsize=35,fontweight='bold',fontname=custom_font)  # Set y-axis label\n",
    "plt.xlim(0, max(time1))\n",
    "plt.ylim(min(yl1_turn)-0.2,0.2)\n",
    "plt.title('Distance_AP of Kinect', fontsize=35, pad=15,fontweight='bold',fontname=custom_font)\n",
    "plt.xticks(fontsize=35, fontname=custom_font)  \n",
    "plt.yticks(fontsize=35, fontname=custom_font)\n",
    "plt.text(0.1,-0.3, 'b' ,fontsize=35,fontweight='bold',fontname=custom_font)\n",
    "\n",
    "plt.subplot(3,1,3)\n",
    "\n",
    "plt.plot(time3_go, yl3_go, linewidth=7, color='#A13E38')\n",
    "plt.plot(time3_turn, yl3_turn, linewidth=7, color='#D7B91B')\n",
    "plt.plot(time3_back, yl3_back, linewidth=7, color='#3A55A4')\n",
    "\n",
    "plt.axvline(x=time3_go.iloc[-1], linestyle='--', color='gray', alpha=0.6,linewidth=2)\n",
    "plt.axvline(x=time3_turn.iloc[-1], linestyle='--', color='gray', alpha=0.6,linewidth=2)\n",
    "\n",
    "plt.axvspan(time3_go.iloc[-1], time3_turn.iloc[-1], color='#EECA40', alpha=0.1)\n",
    "\n",
    "plt.text((time3_go.iloc[-1] + time3_turn.iloc[-1]) / 2, 200, 'Turn', fontsize=35, color='black', ha='center',fontweight='bold',fontname=custom_font)\n",
    "plt.text(time3_go.iloc[-1] / 2, 200, 'Go', fontsize=35, color='black', ha='center',fontweight='bold',fontname=custom_font)\n",
    "plt.text((time3_turn.iloc[-1] + time3_back.iloc[-1]) / 2, 200, 'Back', fontsize=35, color='black', ha='center',fontweight='bold',fontname=custom_font)\n",
    "plt.xlabel('Time (s)', fontsize=35,fontweight='bold',fontname=custom_font)  # Set x-axis label\n",
    "plt.ylabel('Angular velocity (°/s)', fontsize=35,fontweight='bold',fontname=custom_font)  # Set y-axis label\n",
    "plt.xlim(0, max(time3))\n",
    "plt.title('AV_V of IMU', fontsize=35, pad=15,fontweight='bold',fontname=custom_font)\n",
    "plt.xticks(fontsize=35, fontname=custom_font) \n",
    "plt.yticks(fontsize=35, fontname=custom_font)\n",
    "plt.text(0.1,380, 'c' ,fontsize=35,fontweight='bold',fontname=custom_font)\n",
    "plt.subplots_adjust(hspace=0.5)\n",
    "plt.savefig('\\\\raw.jpg', dpi=300, bbox_inches='tight')\n",
    "plt.show()"
   ],
   "metadata": {
    "collapsed": false
   },
   "id": "af24682057d66372"
  },
  {
   "cell_type": "code",
   "execution_count": null,
   "outputs": [],
   "source": [],
   "metadata": {
    "collapsed": false
   },
   "id": "6ff28166f9545b32"
  },
  {
   "cell_type": "code",
   "execution_count": null,
   "outputs": [],
   "source": [],
   "metadata": {
    "collapsed": false
   },
   "id": "5aec2a1eadf59568"
  }
 ],
 "metadata": {
  "kernelspec": {
   "display_name": "Python 3",
   "language": "python",
   "name": "python3"
  },
  "language_info": {
   "codemirror_mode": {
    "name": "ipython",
    "version": 2
   },
   "file_extension": ".py",
   "mimetype": "text/x-python",
   "name": "python",
   "nbconvert_exporter": "python",
   "pygments_lexer": "ipython2",
   "version": "2.7.6"
  }
 },
 "nbformat": 4,
 "nbformat_minor": 5
}
