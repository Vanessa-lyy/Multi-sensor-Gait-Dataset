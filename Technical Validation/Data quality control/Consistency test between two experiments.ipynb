{
 "cells": [
  {
   "cell_type": "markdown",
   "source": [
    "# Consistency Test"
   ],
   "metadata": {
    "collapsed": false
   },
   "id": "8732ce3877227736"
  },
  {
   "cell_type": "code",
   "execution_count": null,
   "outputs": [],
   "source": [
    "import seaborn as sns\n",
    "import pandas as pd\n",
    "import matplotlib.pyplot as plt\n",
    "\n",
    "# Check the consistency of kinematic parameters and spatio-temporal gait parameters from three devices between two experiments\n",
    "mo_ki=pd.read_csv(\"\\\\Data_new\\\\Parameters\\\\MOCAP_5m\\\\kinematic_parameters.csv\")\n",
    "ki_ki=pd.read_csv(\"\\\\Data_new\\\\Parameters\\\\Kinect_2m\\\\kinematic_parameters.csv\")\n",
    "imu_ki=pd.read_csv(\"\\\\Data_new\\\\Parameters\\\\IMU_5m\\\\kinematic_parameters.csv\")\n",
    "mo_sp=pd.read_csv(\"\\\\Data_new\\\\Parameters\\\\MOCAP_5m\\\\spatio-temporal_parameters.csv\")\n",
    "ki_sp=pd.read_csv(\"\\\\Data_new\\\\Parameters\\\\Kinect_2m\\\\spatio-temporal_parameters.csv\")"
   ],
   "metadata": {
    "collapsed": true
   },
   "id": "initial_id"
  },
  {
   "cell_type": "code",
   "execution_count": null,
   "outputs": [],
   "source": [
    "# The consistency test of kinematic parameters from MOCAP\n",
    "\n",
    "import pandas as pd\n",
    "import pingouin as pg\n",
    "#Calculate the ICC value\n",
    "#icc = pg.intraclass_corr(data=mo_ki, targets='sample', raters='times', ratings='Xspeed_mean')\n",
    "#icc = pg.intraclass_corr(data=mo_ki, targets='sample', raters='times', ratings='Yspeed_mean')\n",
    "#icc = pg.intraclass_corr(data=mo_ki, targets='sample', raters='times', ratings='Zspeed_mean')\n",
    "#icc = pg.intraclass_corr(data=mo_ki, targets='sample', raters='times', ratings='knee_max')\n",
    "icc = pg.intraclass_corr(data=mo_ki, targets='sample', raters='times', ratings='ankle_max')\n",
    "print(\"ICC Value:\", icc)\n"
   ],
   "metadata": {
    "collapsed": false
   },
   "id": "12580683fcda6750"
  },
  {
   "cell_type": "code",
   "execution_count": null,
   "outputs": [],
   "source": [
    "# The consistency test of spatio-temporal gait parameters from MOCAP\n",
    "#Consider only the straight-line process\n",
    "grouped_process = mo_sp.groupby('process')\n",
    "group_go = grouped_process.get_group('go')\n",
    "group_back = grouped_process.get_group('back')\n",
    "\n",
    "merged_mo = pd.concat([group_go,group_back], ignore_index=True)\n",
    "\n",
    "icc = pg.intraclass_corr(data=merged_mo, targets='sample', raters='times', ratings='step_length')\n",
    "#icc = pg.intraclass_corr(data=merged_mo, targets='sample', raters='times', ratings='stride_length')\n",
    "#icc = pg.intraclass_corr(data=merged_mo, targets='sample', raters='times', ratings='stride_speed')\n",
    "#icc = pg.intraclass_corr(data=merged_mo, targets='sample', raters='times', ratings='step_width')\n",
    "\n",
    "print(\"ICC Value:\", icc)"
   ],
   "metadata": {
    "collapsed": false
   },
   "id": "c5edf06a3818cf1e"
  },
  {
   "cell_type": "code",
   "execution_count": null,
   "outputs": [],
   "source": [
    "# The consistency test of kinematic parameters from Kinect\n",
    "icc = pg.intraclass_corr(data=ki_ki, targets='sample', raters='times', ratings='Xspeed_mean')\n",
    "#icc = pg.intraclass_corr(data=ki_ki, targets='sample', raters='times', ratings='Yspeed_mean')\n",
    "#icc = pg.intraclass_corr(data=ki_ki, targets='sample', raters='times', ratings='Zspeed_mean')\n",
    "#icc = pg.intraclass_corr(data=ki_ki, targets='sample', raters='times', ratings='knee_max')\n",
    "#icc = pg.intraclass_corr(data=ki_ki, targets='sample', raters='times', ratings='ankle_max')\n",
    "print(\"ICC Value:\", icc)"
   ],
   "metadata": {
    "collapsed": false
   },
   "id": "6b67ab8ec9fc289"
  },
  {
   "cell_type": "code",
   "execution_count": null,
   "outputs": [],
   "source": [
    "# The consistency test of spatio-temporal gait parameters from Kinect\n",
    "# Consider only the straight-line process\n",
    "grouped_process = ki_sp.groupby('process')\n",
    "group_go = grouped_process.get_group('go')\n",
    "group_back = grouped_process.get_group('back')\n",
    "\n",
    "merged_ki = pd.concat([group_go, group_back], ignore_index=True)\n",
    "\n",
    "\n",
    "icc = pg.intraclass_corr(data=merged_ki, targets='sample', raters='times', ratings='step_length')\n",
    "#icc = pg.intraclass_corr(data=merged_ki, targets='sample', raters='times', ratings='stride_length')\n",
    "#icc = pg.intraclass_corr(data=merged_ki, targets='sample', raters='times', ratings='stride_speed')\n",
    "#icc = pg.intraclass_corr(data=merged_ki, targets='sample', raters='times', ratings='step_width')\n",
    "\n",
    "print(\"ICC Value:\", icc)"
   ],
   "metadata": {
    "collapsed": false
   },
   "id": "1112c930025601e9"
  },
  {
   "cell_type": "code",
   "execution_count": null,
   "outputs": [],
   "source": [
    "# The consistency test of kinematic parameters from IMU\n",
    "\n",
    "icc = pg.intraclass_corr(data=imu_ki, targets='sample', raters='times', ratings='Xacc_rms')\n",
    "#icc = pg.intraclass_corr(data=imu_ki, targets='sample', raters='times', ratings='Yacc_rms')\n",
    "#icc = pg.intraclass_corr(data=imu_ki, targets='sample', raters='times', ratings='Zacc_rms')\n",
    "#icc = pg.intraclass_corr(data=imu_ki, targets='sample', raters='times', ratings='Xanv_rms')\n",
    "#icc = pg.intraclass_corr(data=imu_ki, targets='sample', raters='times', ratings='Yanv_rms')\n",
    "#icc = pg.intraclass_corr(data=imu_ki, targets='sample', raters='times', ratings='Zanv_rms')\n",
    "print(\"ICC Value:\", icc)"
   ],
   "metadata": {
    "collapsed": false
   },
   "id": "5e2acb8660fd7e8d"
  },
  {
   "cell_type": "code",
   "execution_count": null,
   "outputs": [],
   "source": [],
   "metadata": {
    "collapsed": false
   },
   "id": "e47d929b4fd4a766"
  }
 ],
 "metadata": {
  "kernelspec": {
   "display_name": "Python 3",
   "language": "python",
   "name": "python3"
  },
  "language_info": {
   "codemirror_mode": {
    "name": "ipython",
    "version": 2
   },
   "file_extension": ".py",
   "mimetype": "text/x-python",
   "name": "python",
   "nbconvert_exporter": "python",
   "pygments_lexer": "ipython2",
   "version": "2.7.6"
  }
 },
 "nbformat": 4,
 "nbformat_minor": 5
}
