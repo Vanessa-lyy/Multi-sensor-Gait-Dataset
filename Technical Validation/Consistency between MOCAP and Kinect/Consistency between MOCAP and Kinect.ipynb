{
 "cells": [
  {
   "cell_type": "code",
   "execution_count": null,
   "id": "initial_id",
   "metadata": {
    "collapsed": true
   },
   "outputs": [],
   "source": [
    "\n",
    "import pandas as pd\n",
    "import matplotlib.pyplot as plt\n",
    "#Perform consistency analysis of gait parameters between MoCap and Kinect\n",
    "mo_sp_2m=pd.read_csv(\"\\\\Data_new\\\\Parameters\\\\MOCAP_2m\\\\spatio-temporal_parameters.csv\")\n",
    "ki_sp_2m=pd.read_csv(\"\\\\Data_new\\\\Parameters\\\\Kinect_2m\\\\spatio-temporal_parameters.csv\")"
   ]
  },
  {
   "cell_type": "code",
   "execution_count": null,
   "outputs": [],
   "source": [
    "#time01-go-task_normal of mocap\n",
    "\n",
    "mo_time = mo_sp_2m.groupby('times')\n",
    "mo_time01 = mo_time.get_group('time01')\n",
    "\n",
    "mo_time01_process = mo_time01.groupby('process')\n",
    "mo_time01_go  = mo_time01_process .get_group('go')\n",
    "\n",
    "mo_time01_go_task = mo_time01_go.groupby('task')\n",
    "mo_time01_go_normal = mo_time01_go_task.get_group('task_normal')\n",
    "\n",
    "\n",
    "#time01-go-task_normal of kinect\n",
    "\n",
    "ki_time = ki_sp_2m.groupby('times')\n",
    "ki_time01 = ki_time.get_group('time01')\n",
    "\n",
    "ki_time01_process = ki_time01.groupby('process')\n",
    "ki_time01_go  = ki_time01_process .get_group('go')\n",
    "\n",
    "ki_time01_go_task = ki_time01_go.groupby('task')\n",
    "ki_time01_go_normal = ki_time01_go_task.get_group('task_normal')\n",
    "\n"
   ],
   "metadata": {
    "collapsed": false
   },
   "id": "a5ce5adeebf79e05"
  },
  {
   "cell_type": "code",
   "execution_count": null,
   "outputs": [],
   "source": [
    "\n",
    "import numpy as np\n",
    "merged = pd.concat([mo_time01_go_normal, ki_time01_go_normal], ignore_index=True)\n",
    "merged"
   ],
   "metadata": {
    "collapsed": false
   },
   "id": "6b7c9e0823ed4b93"
  },
  {
   "cell_type": "code",
   "execution_count": null,
   "outputs": [],
   "source": [
    "\n",
    "from scipy import stats\n",
    "mo_step_normal = np.array(mo_time01_go_normal['step_length']) \n",
    "ki_step_normal = np.array(ki_time01_go_normal['step_length']) \n",
    "\n",
    "step_st=stats.ttest_rel(mo_step_normal,ki_step_normal)\n",
    "\n",
    "print(step_st)\n",
    "\n",
    "\n",
    "print(np.mean(mo_step_normal).round(3),\"±\",np.std(mo_step_normal).round(3))\n",
    "print(np.mean(ki_step_normal).round(3),\"±\",np.std(ki_step_normal).round(3))"
   ],
   "metadata": {
    "collapsed": false
   },
   "id": "7465587ab1edf961"
  },
  {
   "cell_type": "code",
   "execution_count": null,
   "outputs": [],
   "source": [
    "\n",
    "mo_speed_normal = np.array(mo_time01_go_normal['stride_speed'])  \n",
    "ki_speed_normal = np.array(ki_time01_go_normal['stride_speed'])\n",
    "\n",
    "speed_st=stats.ttest_rel(mo_speed_normal,ki_speed_normal)\n",
    "\n",
    "print(speed_st)\n",
    "\n",
    "\n",
    "print(np.mean(mo_speed_normal).round(3),\"±\",np.std(mo_speed_normal).round(3))\n",
    "print(np.mean(ki_speed_normal).round(3),\"±\",np.std(ki_speed_normal).round(3))"
   ],
   "metadata": {
    "collapsed": false
   },
   "id": "ca27d3486f1c8dc0"
  },
  {
   "cell_type": "code",
   "execution_count": null,
   "outputs": [],
   "source": [
    "import numpy as np\n",
    "import matplotlib.pyplot as plt\n",
    "from matplotlib.ticker import FormatStrFormatter\n",
    "import pingouin as pg\n",
    "# Plot Bland-Altman plot\n",
    "data1 = np.array(mo_time01_go_normal['step_length']) \n",
    "data2 = np.array(ki_time01_go_normal['step_length']) \n",
    "data3 = np.array(mo_time01_go_normal['stride_speed'])  \n",
    "data4 = np.array(ki_time01_go_normal['stride_speed']) \n",
    "custom_font = 'Arial'\n",
    "plt.style.use('default')\n",
    "\n",
    "\n",
    "plt.figure(figsize=(16, 6))\n",
    "\n",
    "plt.subplot(1,2,1)\n",
    "ax = pg.plot_blandaltman(data1, data2)\n",
    "font_properties = {'fontsize': 20,'fontname': custom_font}\n",
    "\n",
    "for text in ax.texts:\n",
    "    text.set_fontsize(font_properties['fontsize'])\n",
    "    text.set_fontname(font_properties['fontname'])\n",
    "\n",
    "ax.set_xlabel('Mean (m)', fontsize=20,fontweight='bold',fontname=custom_font)\n",
    "ax.set_ylabel('Difference (m)', fontsize=20,fontweight='bold',fontname=custom_font)\n",
    "ax.set_title('Step length', fontsize=20,fontweight='bold',fontname=custom_font)\n",
    "\n",
    "plt.xticks(fontsize=20, fontname=custom_font) \n",
    "plt.yticks(fontsize=20, fontname=custom_font) \n",
    "formatter = FormatStrFormatter('%.2f')\n",
    "ax.xaxis.set_major_formatter(formatter)\n",
    "ax.yaxis.set_major_formatter(formatter)\n",
    "ax.text(0.35,-0.03, 'a' ,fontsize=20,fontweight='bold',fontname=custom_font)\n",
    "\n",
    "plt.subplot(1,2,2)\n",
    "ax2 = pg.plot_blandaltman(data3, data4)\n",
    "\n",
    "font_properties = {'fontsize': 20,'fontname': custom_font}\n",
    "\n",
    "\n",
    "for text in ax2.texts:\n",
    "    text.set_fontsize(font_properties['fontsize'])\n",
    "    text.set_fontname(font_properties['fontname'])\n",
    "\n",
    "\n",
    "ax2.set_xlabel('Mean (m/s)', fontsize=20,fontweight='bold',fontname=custom_font)\n",
    "ax2.set_ylabel('Difference (m/s)', fontsize=20,fontweight='bold',fontname=custom_font)\n",
    "ax2.set_title('Stride speed', fontsize=20,fontweight='bold',fontname=custom_font)\n",
    "formatter = FormatStrFormatter('%.2f')\n",
    "ax2.xaxis.set_major_formatter(formatter)\n",
    "ax2.yaxis.set_major_formatter(formatter)\n",
    "plt.xticks(fontsize=20, fontname=custom_font)  \n",
    "plt.yticks(fontsize=20, fontname=custom_font)  \n",
    "ax2.text(1.42,-0.1, 'b' ,fontsize=20,fontweight='bold',fontname=custom_font)\n",
    "plt.savefig('\\\\step length and stride speed.jpg', dpi=300, bbox_inches='tight')\n",
    "plt.show()"
   ],
   "metadata": {
    "collapsed": false
   },
   "id": "aedc1a19331c20fd"
  },
  {
   "cell_type": "code",
   "execution_count": null,
   "outputs": [],
   "source": [],
   "metadata": {
    "collapsed": false
   },
   "id": "4adda4a402b8e50c"
  }
 ],
 "metadata": {
  "kernelspec": {
   "display_name": "Python 3",
   "language": "python",
   "name": "python3"
  },
  "language_info": {
   "codemirror_mode": {
    "name": "ipython",
    "version": 2
   },
   "file_extension": ".py",
   "mimetype": "text/x-python",
   "name": "python",
   "nbconvert_exporter": "python",
   "pygments_lexer": "ipython2",
   "version": "2.7.6"
  }
 },
 "nbformat": 4,
 "nbformat_minor": 5
}
